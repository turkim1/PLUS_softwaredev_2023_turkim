{
 "cells": [
  {
   "cell_type": "markdown",
   "id": "ff414e80",
   "metadata": {},
   "source": [
    "# A4 Simple Earthquake Explorer"
   ]
  },
  {
   "cell_type": "markdown",
   "id": "87dd2667",
   "metadata": {},
   "source": [
    "In this notebook, we create a folium map to explore earthquakes recorded by the USGS. We use A4.py which includes the following : \n",
    "- First, we directly loading earthquake data from the [USGS website](https://earthquake.usgs.gov/earthquakes/feed/v1.0/csv.php)\n",
    "- Second, we transform the data to a geodataframe for easier manipulation\n",
    "- Third, we filter the earthquakes based on magnitude\n",
    "- Fourth, we diplay the earthquakes' locations on a map\n",
    "\n",
    "First we start by importing our python file containing the fucntions we made:"
   ]
  },
  {
   "cell_type": "code",
   "execution_count": 1,
   "id": "ee7518d2",
   "metadata": {},
   "outputs": [],
   "source": [
    "from A4 import *"
   ]
  },
  {
   "cell_type": "markdown",
   "id": "9c3b8b2b",
   "metadata": {},
   "source": [
    "We use the load_earthquake_data function from A4 to load the earthquake data from the csv file. The URL can be changed to any dataset from the [USGS website](https://earthquake.usgs.gov/earthquakes/feed/v1.0/csv.php)"
   ]
  },
  {
   "cell_type": "code",
   "execution_count": 10,
   "id": "3d319541",
   "metadata": {},
   "outputs": [],
   "source": [
    "csv_path = 'https://earthquake.usgs.gov/earthquakes/feed/v1.0/summary/significant_month.csv'\n",
    "data = load_earthquake_data(csv_path)"
   ]
  },
  {
   "cell_type": "markdown",
   "id": "6b7f96c5",
   "metadata": {},
   "source": [
    "We then call the convert_to_geodataframe function that takes the longitude and latitude and creates a geometry column"
   ]
  },
  {
   "cell_type": "code",
   "execution_count": 11,
   "id": "619cf1f0",
   "metadata": {},
   "outputs": [
    {
     "name": "stdout",
     "output_type": "stream",
     "text": [
      "The dataset contains 10 earthquake entries\n"
     ]
    }
   ],
   "source": [
    "longitude = 'longitude'\n",
    "latitude = 'latitude'\n",
    "gdf = convert_to_geodataframe(data, longitude, latitude)\n",
    "print('The dataset contains', len(gdf), 'earthquake entries')"
   ]
  },
  {
   "cell_type": "markdown",
   "id": "1b395fd5",
   "metadata": {},
   "source": [
    "Then, using the filter_earthquakes_by_magnitude function, we can set a minimum and maximum magnitude values to filter our dataframe"
   ]
  },
  {
   "cell_type": "code",
   "execution_count": 12,
   "id": "06de33f4",
   "metadata": {
    "scrolled": true
   },
   "outputs": [
    {
     "name": "stdout",
     "output_type": "stream",
     "text": [
      "The number of selected Earthquakes is 6\n"
     ]
    }
   ],
   "source": [
    "min_magnitude = 5.0\n",
    "max_magnitude = 7.0\n",
    "gdf_filtered = filter_earthquakes_by_magnitude(gdf, min_magnitude, max_magnitude)\n",
    "print('The number of selected Earthquakes is', len(gdf_filtered))"
   ]
  },
  {
   "cell_type": "markdown",
   "id": "0dbd2a31",
   "metadata": {},
   "source": [
    "Finally, we create a map to display the locations of the earthquakes with the following symbology : \\\n",
    "    magnitude < 4  <span style=\"color:green\">Green</span> \\\n",
    "    magnitude < 6 <span style=\"color:orange\">orange</span> \\\n",
    "    magnitude > 6 <span style=\"color:red\">Red</span>"
   ]
  },
  {
   "cell_type": "code",
   "execution_count": 13,
   "id": "5795ff61",
   "metadata": {},
   "outputs": [
    {
     "data": {
      "text/html": [
       "<div style=\"width:100%;\"><div style=\"position:relative;width:100%;height:0;padding-bottom:60%;\"><span style=\"color:#565656\">Make this Notebook Trusted to load map: File -> Trust Notebook</span><iframe srcdoc=\"&lt;!DOCTYPE html&gt;\n",
       "&lt;html&gt;\n",
       "&lt;head&gt;\n",
       "    \n",
       "    &lt;meta http-equiv=&quot;content-type&quot; content=&quot;text/html; charset=UTF-8&quot; /&gt;\n",
       "    \n",
       "        &lt;script&gt;\n",
       "            L_NO_TOUCH = false;\n",
       "            L_DISABLE_3D = false;\n",
       "        &lt;/script&gt;\n",
       "    \n",
       "    &lt;style&gt;html, body {width: 100%;height: 100%;margin: 0;padding: 0;}&lt;/style&gt;\n",
       "    &lt;style&gt;#map {position:absolute;top:0;bottom:0;right:0;left:0;}&lt;/style&gt;\n",
       "    &lt;script src=&quot;https://cdn.jsdelivr.net/npm/leaflet@1.9.3/dist/leaflet.js&quot;&gt;&lt;/script&gt;\n",
       "    &lt;script src=&quot;https://code.jquery.com/jquery-1.12.4.min.js&quot;&gt;&lt;/script&gt;\n",
       "    &lt;script src=&quot;https://cdn.jsdelivr.net/npm/bootstrap@5.2.2/dist/js/bootstrap.bundle.min.js&quot;&gt;&lt;/script&gt;\n",
       "    &lt;script src=&quot;https://cdnjs.cloudflare.com/ajax/libs/Leaflet.awesome-markers/2.0.2/leaflet.awesome-markers.js&quot;&gt;&lt;/script&gt;\n",
       "    &lt;link rel=&quot;stylesheet&quot; href=&quot;https://cdn.jsdelivr.net/npm/leaflet@1.9.3/dist/leaflet.css&quot;/&gt;\n",
       "    &lt;link rel=&quot;stylesheet&quot; href=&quot;https://cdn.jsdelivr.net/npm/bootstrap@5.2.2/dist/css/bootstrap.min.css&quot;/&gt;\n",
       "    &lt;link rel=&quot;stylesheet&quot; href=&quot;https://netdna.bootstrapcdn.com/bootstrap/3.0.0/css/bootstrap.min.css&quot;/&gt;\n",
       "    &lt;link rel=&quot;stylesheet&quot; href=&quot;https://cdn.jsdelivr.net/npm/@fortawesome/fontawesome-free@6.2.0/css/all.min.css&quot;/&gt;\n",
       "    &lt;link rel=&quot;stylesheet&quot; href=&quot;https://cdnjs.cloudflare.com/ajax/libs/Leaflet.awesome-markers/2.0.2/leaflet.awesome-markers.css&quot;/&gt;\n",
       "    &lt;link rel=&quot;stylesheet&quot; href=&quot;https://cdn.jsdelivr.net/gh/python-visualization/folium/folium/templates/leaflet.awesome.rotate.min.css&quot;/&gt;\n",
       "    \n",
       "            &lt;meta name=&quot;viewport&quot; content=&quot;width=device-width,\n",
       "                initial-scale=1.0, maximum-scale=1.0, user-scalable=no&quot; /&gt;\n",
       "            &lt;style&gt;\n",
       "                #map_95e552d9a83e83d93515918926a62dd3 {\n",
       "                    position: relative;\n",
       "                    width: 100.0%;\n",
       "                    height: 100.0%;\n",
       "                    left: 0.0%;\n",
       "                    top: 0.0%;\n",
       "                }\n",
       "                .leaflet-container { font-size: 1rem; }\n",
       "            &lt;/style&gt;\n",
       "        \n",
       "&lt;/head&gt;\n",
       "&lt;body&gt;\n",
       "    \n",
       "    \n",
       "            &lt;div class=&quot;folium-map&quot; id=&quot;map_95e552d9a83e83d93515918926a62dd3&quot; &gt;&lt;/div&gt;\n",
       "        \n",
       "&lt;/body&gt;\n",
       "&lt;script&gt;\n",
       "    \n",
       "    \n",
       "            var map_95e552d9a83e83d93515918926a62dd3 = L.map(\n",
       "                &quot;map_95e552d9a83e83d93515918926a62dd3&quot;,\n",
       "                {\n",
       "                    center: [0, 0],\n",
       "                    crs: L.CRS.EPSG3857,\n",
       "                    zoom: 1,\n",
       "                    zoomControl: true,\n",
       "                    preferCanvas: false,\n",
       "                }\n",
       "            );\n",
       "\n",
       "            \n",
       "\n",
       "        \n",
       "    \n",
       "            var tile_layer_a1f06437b13a6e455120748e1e378214 = L.tileLayer(\n",
       "                &quot;https://{s}.tile.openstreetmap.org/{z}/{x}/{y}.png&quot;,\n",
       "                {&quot;attribution&quot;: &quot;Data by \\u0026copy; \\u003ca target=\\&quot;_blank\\&quot; href=\\&quot;http://openstreetmap.org\\&quot;\\u003eOpenStreetMap\\u003c/a\\u003e, under \\u003ca target=\\&quot;_blank\\&quot; href=\\&quot;http://www.openstreetmap.org/copyright\\&quot;\\u003eODbL\\u003c/a\\u003e.&quot;, &quot;detectRetina&quot;: false, &quot;maxNativeZoom&quot;: 18, &quot;maxZoom&quot;: 18, &quot;minZoom&quot;: 0, &quot;noWrap&quot;: false, &quot;opacity&quot;: 1, &quot;subdomains&quot;: &quot;abc&quot;, &quot;tms&quot;: false}\n",
       "            ).addTo(map_95e552d9a83e83d93515918926a62dd3);\n",
       "        \n",
       "    \n",
       "            var circle_marker_f8dd7b8509b17dd660f2c7ed635ee06f = L.circleMarker(\n",
       "                [23.2433, -108.6306],\n",
       "                {&quot;bubblingMouseEvents&quot;: true, &quot;color&quot;: &quot;red&quot;, &quot;dashArray&quot;: null, &quot;dashOffset&quot;: null, &quot;fill&quot;: true, &quot;fillColor&quot;: &quot;red&quot;, &quot;fillOpacity&quot;: 0.7, &quot;fillRule&quot;: &quot;evenodd&quot;, &quot;lineCap&quot;: &quot;round&quot;, &quot;lineJoin&quot;: &quot;round&quot;, &quot;opacity&quot;: 1.0, &quot;radius&quot;: 9, &quot;stroke&quot;: true, &quot;weight&quot;: 3}\n",
       "            ).addTo(map_95e552d9a83e83d93515918926a62dd3);\n",
       "        \n",
       "    \n",
       "        var popup_b84696720cb719bd9333e645f80478a8 = L.popup({&quot;maxWidth&quot;: 250});\n",
       "\n",
       "        \n",
       "            \n",
       "                var html_2022ef7278a8a8248e9dac39ad525866 = $(`&lt;div id=&quot;html_2022ef7278a8a8248e9dac39ad525866&quot; style=&quot;width: 100.0%; height: 100.0%;&quot;&gt;&lt;strong&gt;Time:&lt;/strong&gt; 2023-06-18T20:30:22.892Z&lt;br&gt;&lt;strong&gt;Magnitude:&lt;/strong&gt; 6.4&lt;br&gt;&lt;strong&gt;Place:&lt;/strong&gt; 105 km ESE of La Rivera, Mexico&lt;/div&gt;`)[0];\n",
       "                popup_b84696720cb719bd9333e645f80478a8.setContent(html_2022ef7278a8a8248e9dac39ad525866);\n",
       "            \n",
       "        \n",
       "\n",
       "        circle_marker_f8dd7b8509b17dd660f2c7ed635ee06f.bindPopup(popup_b84696720cb719bd9333e645f80478a8)\n",
       "        ;\n",
       "\n",
       "        \n",
       "    \n",
       "    \n",
       "            var circle_marker_4591d93c9a977d842dcb63dd00a5613a = L.circleMarker(\n",
       "                [13.7495, 120.7447],\n",
       "                {&quot;bubblingMouseEvents&quot;: true, &quot;color&quot;: &quot;red&quot;, &quot;dashArray&quot;: null, &quot;dashOffset&quot;: null, &quot;fill&quot;: true, &quot;fillColor&quot;: &quot;red&quot;, &quot;fillOpacity&quot;: 0.7, &quot;fillRule&quot;: &quot;evenodd&quot;, &quot;lineCap&quot;: &quot;round&quot;, &quot;lineJoin&quot;: &quot;round&quot;, &quot;opacity&quot;: 1.0, &quot;radius&quot;: 9, &quot;stroke&quot;: true, &quot;weight&quot;: 3}\n",
       "            ).addTo(map_95e552d9a83e83d93515918926a62dd3);\n",
       "        \n",
       "    \n",
       "        var popup_885b579138eb2a7e12974bbfce03a0af = L.popup({&quot;maxWidth&quot;: 250});\n",
       "\n",
       "        \n",
       "            \n",
       "                var html_960f31209fd8c5f62a871b5a1d76592d = $(`&lt;div id=&quot;html_960f31209fd8c5f62a871b5a1d76592d&quot; style=&quot;width: 100.0%; height: 100.0%;&quot;&gt;&lt;strong&gt;Time:&lt;/strong&gt; 2023-06-15T02:19:23.281Z&lt;br&gt;&lt;strong&gt;Magnitude:&lt;/strong&gt; 6.2&lt;br&gt;&lt;strong&gt;Place:&lt;/strong&gt; 11 km SSE of Hukay, Philippines&lt;/div&gt;`)[0];\n",
       "                popup_885b579138eb2a7e12974bbfce03a0af.setContent(html_960f31209fd8c5f62a871b5a1d76592d);\n",
       "            \n",
       "        \n",
       "\n",
       "        circle_marker_4591d93c9a977d842dcb63dd00a5613a.bindPopup(popup_885b579138eb2a7e12974bbfce03a0af)\n",
       "        ;\n",
       "\n",
       "        \n",
       "    \n",
       "    \n",
       "            var circle_marker_bd801d5a908648af9fc15e165712ac71 = L.circleMarker(\n",
       "                [42.5268, 141.9005],\n",
       "                {&quot;bubblingMouseEvents&quot;: true, &quot;color&quot;: &quot;red&quot;, &quot;dashArray&quot;: null, &quot;dashOffset&quot;: null, &quot;fill&quot;: true, &quot;fillColor&quot;: &quot;red&quot;, &quot;fillOpacity&quot;: 0.7, &quot;fillRule&quot;: &quot;evenodd&quot;, &quot;lineCap&quot;: &quot;round&quot;, &quot;lineJoin&quot;: &quot;round&quot;, &quot;opacity&quot;: 1.0, &quot;radius&quot;: 9, &quot;stroke&quot;: true, &quot;weight&quot;: 3}\n",
       "            ).addTo(map_95e552d9a83e83d93515918926a62dd3);\n",
       "        \n",
       "    \n",
       "        var popup_ac7e7fa3f99e6cc50d0a5732ebaa330c = L.popup({&quot;maxWidth&quot;: 250});\n",
       "\n",
       "        \n",
       "            \n",
       "                var html_5356530dcfa0f8c42037e6065d0915a3 = $(`&lt;div id=&quot;html_5356530dcfa0f8c42037e6065d0915a3&quot; style=&quot;width: 100.0%; height: 100.0%;&quot;&gt;&lt;strong&gt;Time:&lt;/strong&gt; 2023-06-11T09:54:44.886Z&lt;br&gt;&lt;strong&gt;Magnitude:&lt;/strong&gt; 6.2&lt;br&gt;&lt;strong&gt;Place:&lt;/strong&gt; 20 km WSW of Biratori, Japan&lt;/div&gt;`)[0];\n",
       "                popup_ac7e7fa3f99e6cc50d0a5732ebaa330c.setContent(html_5356530dcfa0f8c42037e6065d0915a3);\n",
       "            \n",
       "        \n",
       "\n",
       "        circle_marker_bd801d5a908648af9fc15e165712ac71.bindPopup(popup_ac7e7fa3f99e6cc50d0a5732ebaa330c)\n",
       "        ;\n",
       "\n",
       "        \n",
       "    \n",
       "    \n",
       "            var circle_marker_d069fda42d0c5ee434fe4456f0c1b7ed = L.circleMarker(\n",
       "                [-15.6705, -71.605],\n",
       "                {&quot;bubblingMouseEvents&quot;: true, &quot;color&quot;: &quot;orange&quot;, &quot;dashArray&quot;: null, &quot;dashOffset&quot;: null, &quot;fill&quot;: true, &quot;fillColor&quot;: &quot;orange&quot;, &quot;fillOpacity&quot;: 0.7, &quot;fillRule&quot;: &quot;evenodd&quot;, &quot;lineCap&quot;: &quot;round&quot;, &quot;lineJoin&quot;: &quot;round&quot;, &quot;opacity&quot;: 1.0, &quot;radius&quot;: 7, &quot;stroke&quot;: true, &quot;weight&quot;: 3}\n",
       "            ).addTo(map_95e552d9a83e83d93515918926a62dd3);\n",
       "        \n",
       "    \n",
       "        var popup_4efa6c1968fdeb3931a85c27bbe22efd = L.popup({&quot;maxWidth&quot;: 250});\n",
       "\n",
       "        \n",
       "            \n",
       "                var html_9e156b2adda0de984f9db65141e21855 = $(`&lt;div id=&quot;html_9e156b2adda0de984f9db65141e21855&quot; style=&quot;width: 100.0%; height: 100.0%;&quot;&gt;&lt;strong&gt;Time:&lt;/strong&gt; 2023-06-03T01:49:15.167Z&lt;br&gt;&lt;strong&gt;Magnitude:&lt;/strong&gt; 5.4&lt;br&gt;&lt;strong&gt;Place:&lt;/strong&gt; southern Peru&lt;/div&gt;`)[0];\n",
       "                popup_4efa6c1968fdeb3931a85c27bbe22efd.setContent(html_9e156b2adda0de984f9db65141e21855);\n",
       "            \n",
       "        \n",
       "\n",
       "        circle_marker_d069fda42d0c5ee434fe4456f0c1b7ed.bindPopup(popup_4efa6c1968fdeb3931a85c27bbe22efd)\n",
       "        ;\n",
       "\n",
       "        \n",
       "    \n",
       "    \n",
       "            var circle_marker_94e05b92560d021ebf3f2a38a6d15cd3 = L.circleMarker(\n",
       "                [25.1051, 96.2315],\n",
       "                {&quot;bubblingMouseEvents&quot;: true, &quot;color&quot;: &quot;orange&quot;, &quot;dashArray&quot;: null, &quot;dashOffset&quot;: null, &quot;fill&quot;: true, &quot;fillColor&quot;: &quot;orange&quot;, &quot;fillOpacity&quot;: 0.7, &quot;fillRule&quot;: &quot;evenodd&quot;, &quot;lineCap&quot;: &quot;round&quot;, &quot;lineJoin&quot;: &quot;round&quot;, &quot;opacity&quot;: 1.0, &quot;radius&quot;: 7, &quot;stroke&quot;: true, &quot;weight&quot;: 3}\n",
       "            ).addTo(map_95e552d9a83e83d93515918926a62dd3);\n",
       "        \n",
       "    \n",
       "        var popup_7cea9022674cd999ba91da41a54751cf = L.popup({&quot;maxWidth&quot;: 250});\n",
       "\n",
       "        \n",
       "            \n",
       "                var html_3f1aed869e12efb7d6dbd459bac6b27d = $(`&lt;div id=&quot;html_3f1aed869e12efb7d6dbd459bac6b27d&quot; style=&quot;width: 100.0%; height: 100.0%;&quot;&gt;&lt;strong&gt;Time:&lt;/strong&gt; 2023-05-31T11:20:14.013Z&lt;br&gt;&lt;strong&gt;Magnitude:&lt;/strong&gt; 5.9&lt;br&gt;&lt;strong&gt;Place:&lt;/strong&gt; 121 km WSW of Myitkyina, Myanmar&lt;/div&gt;`)[0];\n",
       "                popup_7cea9022674cd999ba91da41a54751cf.setContent(html_3f1aed869e12efb7d6dbd459bac6b27d);\n",
       "            \n",
       "        \n",
       "\n",
       "        circle_marker_94e05b92560d021ebf3f2a38a6d15cd3.bindPopup(popup_7cea9022674cd999ba91da41a54751cf)\n",
       "        ;\n",
       "\n",
       "        \n",
       "    \n",
       "    \n",
       "            var circle_marker_903a8da81791ce5ade2c39c48f7588f3 = L.circleMarker(\n",
       "                [-49.5713, 163.8394],\n",
       "                {&quot;bubblingMouseEvents&quot;: true, &quot;color&quot;: &quot;red&quot;, &quot;dashArray&quot;: null, &quot;dashOffset&quot;: null, &quot;fill&quot;: true, &quot;fillColor&quot;: &quot;red&quot;, &quot;fillOpacity&quot;: 0.7, &quot;fillRule&quot;: &quot;evenodd&quot;, &quot;lineCap&quot;: &quot;round&quot;, &quot;lineJoin&quot;: &quot;round&quot;, &quot;opacity&quot;: 1.0, &quot;radius&quot;: 9, &quot;stroke&quot;: true, &quot;weight&quot;: 3}\n",
       "            ).addTo(map_95e552d9a83e83d93515918926a62dd3);\n",
       "        \n",
       "    \n",
       "        var popup_da2bb22e58110a77606380291fb69b91 = L.popup({&quot;maxWidth&quot;: 250});\n",
       "\n",
       "        \n",
       "            \n",
       "                var html_700ab64416792a6bacf63f94c7af4e5a = $(`&lt;div id=&quot;html_700ab64416792a6bacf63f94c7af4e5a&quot; style=&quot;width: 100.0%; height: 100.0%;&quot;&gt;&lt;strong&gt;Time:&lt;/strong&gt; 2023-05-31T02:21:23.103Z&lt;br&gt;&lt;strong&gt;Magnitude:&lt;/strong&gt; 6.3&lt;br&gt;&lt;strong&gt;Place:&lt;/strong&gt; Auckland Islands, New Zealand region&lt;/div&gt;`)[0];\n",
       "                popup_da2bb22e58110a77606380291fb69b91.setContent(html_700ab64416792a6bacf63f94c7af4e5a);\n",
       "            \n",
       "        \n",
       "\n",
       "        circle_marker_903a8da81791ce5ade2c39c48f7588f3.bindPopup(popup_da2bb22e58110a77606380291fb69b91)\n",
       "        ;\n",
       "\n",
       "        \n",
       "    \n",
       "&lt;/script&gt;\n",
       "&lt;/html&gt;\" style=\"position:absolute;width:100%;height:100%;left:0;top:0;border:none !important;\" allowfullscreen webkitallowfullscreen mozallowfullscreen></iframe></div></div>"
      ],
      "text/plain": [
       "<folium.folium.Map at 0x278f025ae50>"
      ]
     },
     "execution_count": 13,
     "metadata": {},
     "output_type": "execute_result"
    }
   ],
   "source": [
    "plot_earthquake_map(gdf_filtered)"
   ]
  }
 ],
 "metadata": {
  "kernelspec": {
   "display_name": "Python 3 (ipykernel)",
   "language": "python",
   "name": "python3"
  },
  "language_info": {
   "codemirror_mode": {
    "name": "ipython",
    "version": 3
   },
   "file_extension": ".py",
   "mimetype": "text/x-python",
   "name": "python",
   "nbconvert_exporter": "python",
   "pygments_lexer": "ipython3",
   "version": "3.11.3"
  }
 },
 "nbformat": 4,
 "nbformat_minor": 5
}
